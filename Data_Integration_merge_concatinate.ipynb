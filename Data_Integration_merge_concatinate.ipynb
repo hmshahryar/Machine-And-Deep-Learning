{
 "cells": [
  {
   "cell_type": "markdown",
   "metadata": {},
   "source": [
    "iner on base id math the remai only those coumns\n",
    "right and left new atble has own id just join the table in left or right "
   ]
  },
  {
   "cell_type": "code",
   "execution_count": 2,
   "metadata": {},
   "outputs": [],
   "source": [
    "import pandas as pd\n",
    "import numpy as np\n",
    "\n",
    "customers = pd.DataFrame({\n",
    "    'customer_id': [1, 2, 3, 4, 5],\n",
    "    'name': ['John', 'Alice', 'Bob', 'Emma', 'David'],\n",
    "    'country': ['USA', 'Canada', 'UK', 'USA', 'Canada']\n",
    "})\n",
    "\n",
    "# Creating DataFrame 2: Orders\n",
    "orders = pd.DataFrame({\n",
    "    'order_id': [101, 102, 103, 104, 105],\n",
    "    'customer_id': [1, 3, 2, 5, 6],  # Note: customer_id=6 does not exist in customers\n",
    "    'product': ['Laptop', 'Smartphone', 'Headphones', 'Tablet', 'Monitor'],\n",
    "    'amount': [1200, 800, 150, 300, 500]\n",
    "})"
   ]
  },
  {
   "cell_type": "code",
   "execution_count": 3,
   "metadata": {},
   "outputs": [
    {
     "name": "stdout",
     "output_type": "stream",
     "text": [
      "   customer_id   name country  order_id     product  amount\n",
      "0            1   John     USA       101      Laptop    1200\n",
      "1            2  Alice  Canada       103  Headphones     150\n",
      "2            3    Bob      UK       102  Smartphone     800\n",
      "3            5  David  Canada       104      Tablet     300\n"
     ]
    }
   ],
   "source": [
    "new_data = pd.merge(customers, orders, on='customer_id', how='inner')\n",
    "print(new_data)"
   ]
  },
  {
   "cell_type": "code",
   "execution_count": 4,
   "metadata": {},
   "outputs": [
    {
     "name": "stdout",
     "output_type": "stream",
     "text": [
      "   customer_id   name country  order_id     product  amount\n",
      "0            1   John     USA     101.0      Laptop  1200.0\n",
      "1            2  Alice  Canada     103.0  Headphones   150.0\n",
      "2            3    Bob      UK     102.0  Smartphone   800.0\n",
      "3            4   Emma     USA       NaN         NaN     NaN\n",
      "4            5  David  Canada     104.0      Tablet   300.0\n"
     ]
    }
   ],
   "source": [
    "new_data = pd.merge(customers, orders, on='customer_id', how='left')\n",
    "print(new_data)"
   ]
  },
  {
   "cell_type": "code",
   "execution_count": 5,
   "metadata": {},
   "outputs": [
    {
     "name": "stdout",
     "output_type": "stream",
     "text": [
      "   customer_id   name country  order_id     product  amount\n",
      "0            1   John     USA       101      Laptop    1200\n",
      "1            3    Bob      UK       102  Smartphone     800\n",
      "2            2  Alice  Canada       103  Headphones     150\n",
      "3            5  David  Canada       104      Tablet     300\n",
      "4            6    NaN     NaN       105     Monitor     500\n"
     ]
    }
   ],
   "source": [
    "new_data = pd.merge(customers, orders, on='customer_id', how='right')\n",
    "print(new_data)"
   ]
  },
  {
   "cell_type": "code",
   "execution_count": 8,
   "metadata": {},
   "outputs": [
    {
     "name": "stdout",
     "output_type": "stream",
     "text": [
      "   customer_id   name country  order_id  customer_id     product  amount\n",
      "0            1   John     USA       101            1      Laptop    1200\n",
      "1            2  Alice  Canada       102            3  Smartphone     800\n",
      "2            3    Bob      UK       103            2  Headphones     150\n",
      "3            4   Emma     USA       104            5      Tablet     300\n",
      "4            5  David  Canada       105            6     Monitor     500\n"
     ]
    }
   ],
   "source": [
    "new_data = pd.concat([customers, orders], axis=1)\n",
    "print(new_data)"
   ]
  },
  {
   "cell_type": "code",
   "execution_count": 10,
   "metadata": {},
   "outputs": [
    {
     "name": "stdout",
     "output_type": "stream",
     "text": [
      "   customer_id   name country  order_id     product  amount\n",
      "0            1   John     USA       NaN         NaN     NaN\n",
      "1            2  Alice  Canada       NaN         NaN     NaN\n",
      "2            3    Bob      UK       NaN         NaN     NaN\n",
      "3            4   Emma     USA       NaN         NaN     NaN\n",
      "4            5  David  Canada       NaN         NaN     NaN\n",
      "0            1    NaN     NaN     101.0      Laptop  1200.0\n",
      "1            3    NaN     NaN     102.0  Smartphone   800.0\n",
      "2            2    NaN     NaN     103.0  Headphones   150.0\n",
      "3            5    NaN     NaN     104.0      Tablet   300.0\n",
      "4            6    NaN     NaN     105.0     Monitor   500.0\n"
     ]
    }
   ],
   "source": [
    "new_data = pd.concat([customers, orders], axis=0)\n",
    "print(new_data)"
   ]
  }
 ],
 "metadata": {
  "kernelspec": {
   "display_name": "sklearn-env",
   "language": "python",
   "name": "python3"
  },
  "language_info": {
   "codemirror_mode": {
    "name": "ipython",
    "version": 3
   },
   "file_extension": ".py",
   "mimetype": "text/x-python",
   "name": "python",
   "nbconvert_exporter": "python",
   "pygments_lexer": "ipython3",
   "version": "3.13.1"
  }
 },
 "nbformat": 4,
 "nbformat_minor": 2
}
