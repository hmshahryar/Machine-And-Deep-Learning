{
 "cells": [
  {
   "cell_type": "markdown",
   "metadata": {},
   "source": [
    "inconsistencies\n",
    "format naming cnovetion\n",
    "typographic \n",
    "duplicates"
   ]
  },
  {
   "cell_type": "code",
   "execution_count": 2,
   "metadata": {},
   "outputs": [
    {
     "name": "stdout",
     "output_type": "stream",
     "text": [
      "               date         country  sales  year\n",
      "0        2024-01-15             USA    258  2024\n",
      "1        01/16/2024            U.S.    367  2024\n",
      "2        15-01-2024   United States    610  2024\n",
      "3        2024/01/17          Canada    938  2024\n",
      "4          16-01-24             CAN    405   NaN\n",
      "5        2024.01.18  United Kingdom    182  2024\n",
      "6       17 Jan 2024              UK    943  2024\n",
      "7        01-18-2024            U.K.    907  2024\n",
      "8          18/01/24   United States    431   NaN\n",
      "9  January 19, 2024             USA    626  2024\n"
     ]
    }
   ],
   "source": [
    "import pandas as pd\n",
    "import random\n",
    "\n",
    "data = {\n",
    "    \"date\": [\"2024-01-15\", \"01/16/2024\", \"15-01-2024\", \"2024/01/17\", \"16-01-24\", \n",
    "             \"2024.01.18\", \"17 Jan 2024\", \"01-18-2024\", \"18/01/24\", \"January 19, 2024\"],\n",
    "    \"country\": [\"USA\", \"U.S.\", \"United States\", \"Canada\", \"CAN\", \n",
    "                \"United Kingdom\", \"UK\", \"U.K.\", \"United States\", \"USA\"],\n",
    "    \"sales\": [random.randint(100, 1000) for _ in range(10)]\n",
    "}\n",
    "\n",
    "df = pd.DataFrame(data)\n",
    "\n",
    "# Extract year from different date formats\n",
    "df[\"year\"] = df[\"date\"].str.extract(r'(\\d{4})')  \n",
    "\n",
    "print(df)\n"
   ]
  },
  {
   "cell_type": "code",
   "execution_count": 8,
   "metadata": {},
   "outputs": [
    {
     "data": {
      "application/vnd.microsoft.datawrangler.viewer.v0+json": {
       "columns": [
        {
         "name": "index",
         "rawType": "int64",
         "type": "integer"
        },
        {
         "name": "date",
         "rawType": "datetime64[ns]",
         "type": "datetime"
        },
        {
         "name": "country",
         "rawType": "object",
         "type": "string"
        },
        {
         "name": "sales",
         "rawType": "int64",
         "type": "integer"
        },
        {
         "name": "year",
         "rawType": "object",
         "type": "unknown"
        }
       ],
       "conversionMethod": "pd.DataFrame",
       "ref": "b6100525-8436-492c-b6ce-3dd9b9b14efb",
       "rows": [
        [
         "0",
         "2024-01-15 00:00:00",
         "USA",
         "258",
         "2024"
        ],
        [
         "1",
         null,
         "U.S.",
         "367",
         "2024"
        ],
        [
         "2",
         null,
         "United States",
         "610",
         "2024"
        ],
        [
         "3",
         null,
         "Canada",
         "938",
         "2024"
        ],
        [
         "4",
         null,
         "CAN",
         "405",
         null
        ],
        [
         "5",
         null,
         "United Kingdom",
         "182",
         "2024"
        ],
        [
         "6",
         null,
         "UK",
         "943",
         "2024"
        ],
        [
         "7",
         null,
         "U.K.",
         "907",
         "2024"
        ],
        [
         "8",
         null,
         "United States",
         "431",
         null
        ],
        [
         "9",
         null,
         "USA",
         "626",
         "2024"
        ]
       ],
       "shape": {
        "columns": 4,
        "rows": 10
       }
      },
      "text/html": [
       "<div>\n",
       "<style scoped>\n",
       "    .dataframe tbody tr th:only-of-type {\n",
       "        vertical-align: middle;\n",
       "    }\n",
       "\n",
       "    .dataframe tbody tr th {\n",
       "        vertical-align: top;\n",
       "    }\n",
       "\n",
       "    .dataframe thead th {\n",
       "        text-align: right;\n",
       "    }\n",
       "</style>\n",
       "<table border=\"1\" class=\"dataframe\">\n",
       "  <thead>\n",
       "    <tr style=\"text-align: right;\">\n",
       "      <th></th>\n",
       "      <th>date</th>\n",
       "      <th>country</th>\n",
       "      <th>sales</th>\n",
       "      <th>year</th>\n",
       "    </tr>\n",
       "  </thead>\n",
       "  <tbody>\n",
       "    <tr>\n",
       "      <th>0</th>\n",
       "      <td>2024-01-15</td>\n",
       "      <td>USA</td>\n",
       "      <td>258</td>\n",
       "      <td>2024</td>\n",
       "    </tr>\n",
       "    <tr>\n",
       "      <th>1</th>\n",
       "      <td>NaT</td>\n",
       "      <td>U.S.</td>\n",
       "      <td>367</td>\n",
       "      <td>2024</td>\n",
       "    </tr>\n",
       "    <tr>\n",
       "      <th>2</th>\n",
       "      <td>NaT</td>\n",
       "      <td>United States</td>\n",
       "      <td>610</td>\n",
       "      <td>2024</td>\n",
       "    </tr>\n",
       "    <tr>\n",
       "      <th>3</th>\n",
       "      <td>NaT</td>\n",
       "      <td>Canada</td>\n",
       "      <td>938</td>\n",
       "      <td>2024</td>\n",
       "    </tr>\n",
       "    <tr>\n",
       "      <th>4</th>\n",
       "      <td>NaT</td>\n",
       "      <td>CAN</td>\n",
       "      <td>405</td>\n",
       "      <td>NaN</td>\n",
       "    </tr>\n",
       "    <tr>\n",
       "      <th>5</th>\n",
       "      <td>NaT</td>\n",
       "      <td>United Kingdom</td>\n",
       "      <td>182</td>\n",
       "      <td>2024</td>\n",
       "    </tr>\n",
       "    <tr>\n",
       "      <th>6</th>\n",
       "      <td>NaT</td>\n",
       "      <td>UK</td>\n",
       "      <td>943</td>\n",
       "      <td>2024</td>\n",
       "    </tr>\n",
       "    <tr>\n",
       "      <th>7</th>\n",
       "      <td>NaT</td>\n",
       "      <td>U.K.</td>\n",
       "      <td>907</td>\n",
       "      <td>2024</td>\n",
       "    </tr>\n",
       "    <tr>\n",
       "      <th>8</th>\n",
       "      <td>NaT</td>\n",
       "      <td>United States</td>\n",
       "      <td>431</td>\n",
       "      <td>NaN</td>\n",
       "    </tr>\n",
       "    <tr>\n",
       "      <th>9</th>\n",
       "      <td>NaT</td>\n",
       "      <td>USA</td>\n",
       "      <td>626</td>\n",
       "      <td>2024</td>\n",
       "    </tr>\n",
       "  </tbody>\n",
       "</table>\n",
       "</div>"
      ],
      "text/plain": [
       "        date         country  sales  year\n",
       "0 2024-01-15             USA    258  2024\n",
       "1        NaT            U.S.    367  2024\n",
       "2        NaT   United States    610  2024\n",
       "3        NaT          Canada    938  2024\n",
       "4        NaT             CAN    405   NaN\n",
       "5        NaT  United Kingdom    182  2024\n",
       "6        NaT              UK    943  2024\n",
       "7        NaT            U.K.    907  2024\n",
       "8        NaT   United States    431   NaN\n",
       "9        NaT             USA    626  2024"
      ]
     },
     "execution_count": 8,
     "metadata": {},
     "output_type": "execute_result"
    }
   ],
   "source": [
    "df[\"date\"] = pd.to_datetime(df[\"date\"], errors='coerce', dayfirst=False)\n",
    "df"
   ]
  },
  {
   "cell_type": "code",
   "execution_count": 10,
   "metadata": {},
   "outputs": [
    {
     "name": "stdout",
     "output_type": "stream",
     "text": [
      "         date         country  sales  year\n",
      "0  2024-01-15             USA    258  2024\n",
      "1         NaN             USA    367   NaN\n",
      "2         NaN             USA    610   NaN\n",
      "3         NaN          Canada    938   NaN\n",
      "4         NaN          Canada    405   NaN\n",
      "5         NaN  United Kingdom    182   NaN\n",
      "6         NaN  United Kingdom    943   NaN\n",
      "7         NaN  United Kingdom    907   NaN\n",
      "8         NaN             USA    431   NaN\n",
      "9         NaN             USA    626   NaN\n"
     ]
    },
    {
     "name": "stderr",
     "output_type": "stream",
     "text": [
      "C:\\Users\\theki\\AppData\\Local\\Temp\\ipykernel_6464\\1097761652.py:18: UserWarning: The argument 'infer_datetime_format' is deprecated and will be removed in a future version. A strict version of it is now the default, see https://pandas.pydata.org/pdeps/0004-consistent-to-datetime-parsing.html. You can safely remove this argument.\n",
      "  df[\"date\"] = pd.to_datetime(df[\"date\"], errors='coerce', infer_datetime_format=True).dt.strftime('%Y-%m-%d')\n"
     ]
    }
   ],
   "source": [
    "import pandas as pd\n",
    "\n",
    "# Sample data\n",
    "data = {\n",
    "    \"date\": [\n",
    "        \"2024-01-15\", \"01/16/2024\", \"15-01-2024\", \"2024/01/17\", \"16-01-24\", \n",
    "        \"2024.01.18\", \"17 Jan 2024\", \"01-18-2024\", \"18/01/24\", \"January 19, 2024\"\n",
    "    ],\n",
    "    \"country\": [\"USA\", \"U.S.\", \"United States\", \"Canada\", \"CAN\", \n",
    "                \"United Kingdom\", \"UK\", \"U.K.\", \"United States\", \"USA\"],\n",
    "    \"sales\": [258, 367, 610, 938, 405, 182, 943, 907, 431, 626],\n",
    "    \"year\": [2024, 2024, 2024, 2024, None, 2024, 2024, 2024, None, 2024]\n",
    "}\n",
    "\n",
    "df = pd.DataFrame(data)\n",
    "\n",
    "# 🟢 Step 1: Convert all date formats consistently (YYYY-MM-DD)\n",
    "df[\"date\"] = pd.to_datetime(df[\"date\"], errors='coerce', infer_datetime_format=True).dt.strftime('%Y-%m-%d')\n",
    "\n",
    "# 🟢 Step 2: Standardize country names\n",
    "country_mapping = {\n",
    "    \"U.S.\": \"USA\", \"United States\": \"USA\", \n",
    "    \"U.K.\": \"United Kingdom\", \"UK\": \"United Kingdom\",\n",
    "    \"CAN\": \"Canada\"\n",
    "}\n",
    "df[\"country\"] = df[\"country\"].replace(country_mapping)\n",
    "\n",
    "# 🟢 Step 3: Fill missing year values\n",
    "df[\"year\"] = df[\"date\"].str[:4]  # Extract year from date\n",
    "\n",
    "# 🟢 Print final result\n",
    "print(df)\n",
    "\n"
   ]
  }
 ],
 "metadata": {
  "kernelspec": {
   "display_name": "sklearn-env",
   "language": "python",
   "name": "python3"
  },
  "language_info": {
   "codemirror_mode": {
    "name": "ipython",
    "version": 3
   },
   "file_extension": ".py",
   "mimetype": "text/x-python",
   "name": "python",
   "nbconvert_exporter": "python",
   "pygments_lexer": "ipython3",
   "version": "3.13.1"
  }
 },
 "nbformat": 4,
 "nbformat_minor": 2
}
