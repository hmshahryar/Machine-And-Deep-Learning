{
 "cells": [
  {
   "cell_type": "code",
   "execution_count": 57,
   "metadata": {},
   "outputs": [],
   "source": [
    "#Normalization ensures that all features contribute equally to the distance calculation.\n",
    "#Features with larger magnitudes can dominate the model's learning process\n",
    "import numpy as np \n",
    "import pandas as pd \n",
    "from sklearn.preprocessing import Normalizer\n",
    "data = {\n",
    "    'height': [165, 178, 155, 180, 172, 160, 185, 170, 168, 175],  # Height in centimeters\n",
    "    'age': [30, 45, 22, 50, 38, 28, 60, 35, 42, 29],             # Age in years\n",
    "    'weight': [65, 80, 55, 90, 75, 60, 95, 70, 68, 78]            # Weight in kilograms\n",
    "}\n"
   ]
  },
  {
   "cell_type": "code",
   "execution_count": 58,
   "metadata": {},
   "outputs": [
    {
     "name": "stdout",
     "output_type": "stream",
     "text": [
      "   height  age  weight  height_loged  age_loged  weight_loged\n",
      "0     165   30      65      2.217484   1.477121      1.812913\n",
      "1     178   45      80      2.250420   1.653213      1.903090\n",
      "2     155   22      55      2.190332   1.342423      1.740363\n",
      "3     180   50      90      2.255273   1.698970      1.954243\n",
      "4     172   38      75      2.235528   1.579784      1.875061\n",
      "5     160   28      60      2.204120   1.447158      1.778151\n",
      "6     185   60      95      2.267172   1.778151      1.977724\n",
      "7     170   35      70      2.230449   1.544068      1.845098\n",
      "8     168   42      68      2.225309   1.623249      1.832509\n",
      "9     175   29      78      2.243038   1.462398      1.892095\n"
     ]
    }
   ],
   "source": [
    "data[\"height_loged\"] = np.log10(data[\"height\"])\n",
    "data[\"age_loged\"] = np.log10(data[\"age\"])   \n",
    "data[\"weight_loged\"] = np.log10(data[\"weight\"])\n",
    "\n",
    "df = pd.DataFrame(data)\n",
    "print(df)"
   ]
  },
  {
   "cell_type": "code",
   "execution_count": null,
   "metadata": {},
   "outputs": [],
   "source": []
  },
  {
   "cell_type": "code",
   "execution_count": null,
   "metadata": {},
   "outputs": [],
   "source": []
  }
 ],
 "metadata": {
  "kernelspec": {
   "display_name": "sklearn-env",
   "language": "python",
   "name": "python3"
  },
  "language_info": {
   "codemirror_mode": {
    "name": "ipython",
    "version": 3
   },
   "file_extension": ".py",
   "mimetype": "text/x-python",
   "name": "python",
   "nbconvert_exporter": "python",
   "pygments_lexer": "ipython3",
   "version": "3.13.1"
  }
 },
 "nbformat": 4,
 "nbformat_minor": 2
}
