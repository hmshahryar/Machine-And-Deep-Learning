{
  "nbformat": 4,
  "nbformat_minor": 0,
  "metadata": {
    "colab": {
      "provenance": []
    },
    "kernelspec": {
      "name": "python3",
      "display_name": "Python 3"
    },
    "language_info": {
      "name": "python"
    }
  },
  "cells": [
    {
      "cell_type": "code",
      "execution_count": null,
      "metadata": {
        "id": "Dxa6iZDfPLO0"
      },
      "outputs": [],
      "source": [
        "import numpy as np\n",
        "import pandas as pd\n",
        "import matplotlib.pyplot as plt\n",
        "import seaborn as sns\n"
      ]
    },
    {
      "cell_type": "code",
      "source": [
        "data = pd.read_csv(\"Multi linear regression data.csv\")\n",
        "x = data.iloc[:,:-1].values\n",
        "y = data.iloc[:,-1].values\n",
        "\n"
      ],
      "metadata": {
        "id": "zUkiRKYTPnkO"
      },
      "execution_count": 6,
      "outputs": []
    },
    {
      "cell_type": "code",
      "source": [
        "from sklearn.compose import ColumnTransformer\n",
        "from sklearn.preprocessing import OneHotEncoder\n",
        "ct = ColumnTransformer(transformers=[(\"encoder\", OneHotEncoder() , [3])] , remainder=\"passthrough\" )\n",
        "x = np.array(ct.fit_transform(x))"
      ],
      "metadata": {
        "id": "6r4VP6kaIFu_"
      },
      "execution_count": 7,
      "outputs": []
    },
    {
      "cell_type": "code",
      "source": [],
      "metadata": {
        "id": "D9jH0Wb9R-f5"
      },
      "execution_count": 8,
      "outputs": []
    },
    {
      "cell_type": "code",
      "source": [
        "from sklearn.impute import SimpleImputer\n",
        "impute = SimpleImputer(missing_values = np.nan , strategy=\"mean\")\n",
        "\n",
        "\n",
        "x[:,-3:] = impute.fit_transform(x[:,-3:])\n",
        "if pd.isnull(y).any():\n",
        "    y = impute.fit_transform(y.reshape(-1, 1)).ravel() # check is any is null convert in 2d replace with mean convert bck reval in 1d"
      ],
      "metadata": {
        "id": "8HyKUvJJQAP2"
      },
      "execution_count": 11,
      "outputs": []
    },
    {
      "cell_type": "code",
      "source": [
        "y"
      ],
      "metadata": {
        "colab": {
          "base_uri": "https://localhost:8080/"
        },
        "id": "GTI4-7LHVfKq",
        "outputId": "31fc587b-d6d3-4e56-c18f-6e4b05dd1cdd"
      },
      "execution_count": 12,
      "outputs": [
        {
          "output_type": "execute_result",
          "data": {
            "text/plain": [
              "array([114968, 121875, 199440, 180889,  87638, 172557, 126458, 162391,\n",
              "        94597, 107771, 153730,  83167, 179975, 152973,  98859, 170583,\n",
              "       162126, 147021,  92609, 142920, 161190,  95649, 191778, 151861,\n",
              "       140660, 116976,  95291, 108776, 112329, 153820, 170423, 180125,\n",
              "       163574, 148297, 112663, 133364,  84647, 190527,  91558, 126536,\n",
              "       142911, 134239, 110564,  93897,  98972, 127500, 184393, 174429,\n",
              "       193346, 156609])"
            ]
          },
          "metadata": {},
          "execution_count": 12
        }
      ]
    },
    {
      "cell_type": "code",
      "source": [
        "from sklearn.model_selection import train_test_split\n",
        "x_train , x_test , y_train , y_test = train_test_split(x,y,test_size=0.2 , random_state=0)"
      ],
      "metadata": {
        "id": "f4Yh_OozVkkh"
      },
      "execution_count": null,
      "outputs": []
    }
  ]
}