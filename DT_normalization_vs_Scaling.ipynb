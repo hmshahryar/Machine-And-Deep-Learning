{
 "cells": [
  {
   "cell_type": "markdown",
   "metadata": {},
   "source": [
    "normalization : \n",
    "    It scales the data but aslso changes the shape ofthe data  like the distubuition ischanged \n",
    "standarization : standardization is standarzes scale  the valuers in order but not change the shape of the data     "
   ]
  }
 ],
 "metadata": {
  "language_info": {
   "name": "python"
  }
 },
 "nbformat": 4,
 "nbformat_minor": 2
}
